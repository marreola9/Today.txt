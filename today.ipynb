{
 "cells": [
  {
   "cell_type": "code",
   "execution_count": 2,
   "metadata": {},
   "outputs": [],
   "source": [
    "# 13.1 Write the current date as a string to the text file today.txt.\n",
    "\n",
    "import datetime\n",
    "\n",
    "# Get current date as string\n",
    "today_str = datetime.datetime.now().strftime('%Y-%m-%d')\n",
    "\n",
    "# Write to file\n",
    "with open('today.txt', 'w') as f:\n",
    "    f.write(today_str)\n"
   ]
  },
  {
   "cell_type": "code",
   "execution_count": 3,
   "metadata": {},
   "outputs": [
    {
     "name": "stdout",
     "output_type": "stream",
     "text": [
      "2023-04-30\n"
     ]
    }
   ],
   "source": [
    "# 13.2 Read the text file today.txt into the string today_string.\n",
    "\n",
    "# Read from file\n",
    "with open('today.txt', 'r') as f:\n",
    "    today_string = f.read()\n",
    "\n",
    "# Print the string\n",
    "print(today_string)"
   ]
  },
  {
   "cell_type": "code",
   "execution_count": 4,
   "metadata": {},
   "outputs": [
    {
     "name": "stdout",
     "output_type": "stream",
     "text": [
      "2023-04-30 00:00:00\n"
     ]
    }
   ],
   "source": [
    "#  13.3 Parse the date from today_string.\n",
    "\n",
    "import datetime\n",
    "\n",
    "# Get current date as string\n",
    "today_str = datetime.datetime.now().strftime('%Y-%m-%d')\n",
    "\n",
    "# Write to file\n",
    "with open('today.txt', 'w') as f:\n",
    "    f.write(today_str)\n",
    "\n",
    "# Read from file and parse date\n",
    "with open('today.txt', 'r') as f:\n",
    "    today_string = f.read()\n",
    "\n",
    "parsed_date = datetime.datetime.strptime(today_string, '%Y-%m-%d')\n",
    "\n",
    "print(parsed_date)\n"
   ]
  },
  {
   "cell_type": "code",
   "execution_count": 5,
   "metadata": {},
   "outputs": [
    {
     "name": "stdout",
     "output_type": "stream",
     "text": [
      "Today's date and time is 2023-04-30 14:33:33.787879\n",
      "Today's date and time is 2023-04-30 14:33:34.120507\n",
      "Today's date and time is 2023-04-30 14:33:34.130189\n"
     ]
    }
   ],
   "source": [
    "# 15.1 Use multiprocessing to create three separate processes. \n",
    "# Make each one wait a random number of seconds between zero and one, \n",
    "# print the current time, and then exit.\n",
    "\n",
    "import multiprocessing\n",
    "\n",
    "from datetime import datetime\n",
    "\n",
    "import time\n",
    "\n",
    "import random\n",
    "\n",
    "def ptime():\n",
    "\n",
    "   cur = datetime.now()\n",
    "\n",
    "   print(\"Today's date and time is {}\".format(cur))\n",
    "\n",
    "   time.sleep(random.random())\n",
    "\n",
    "if __name__ == '__main__':\n",
    "\n",
    "   proc1 = multiprocessing.Process(target=ptime())\n",
    "\n",
    "   proc2 = multiprocessing.Process(target=ptime())\n",
    "\n",
    "   proc3 = multiprocessing.Process(target=ptime())\n",
    "\n",
    "   proc1.start()\n",
    "\n",
    "   proc2.start()\n",
    "\n",
    "   proc3.start()\n",
    "\n",
    "   proc1.join()\n",
    "\n",
    "   proc2.join()\n",
    "\n",
    "   proc3.join()"
   ]
  }
 ],
 "metadata": {
  "kernelspec": {
   "display_name": "Python 3",
   "language": "python",
   "name": "python3"
  },
  "language_info": {
   "codemirror_mode": {
    "name": "ipython",
    "version": 3
   },
   "file_extension": ".py",
   "mimetype": "text/x-python",
   "name": "python",
   "nbconvert_exporter": "python",
   "pygments_lexer": "ipython3",
   "version": "3.11.2"
  },
  "orig_nbformat": 4
 },
 "nbformat": 4,
 "nbformat_minor": 2
}
